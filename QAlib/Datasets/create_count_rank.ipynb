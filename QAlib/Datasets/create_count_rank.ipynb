{
 "cells": [
  {
   "cell_type": "code",
   "execution_count": 1,
   "id": "422fdf74",
   "metadata": {
    "scrolled": true
   },
   "outputs": [
    {
     "data": {
      "text/html": [
       "<div>\n",
       "<style scoped>\n",
       "    .dataframe tbody tr th:only-of-type {\n",
       "        vertical-align: middle;\n",
       "    }\n",
       "\n",
       "    .dataframe tbody tr th {\n",
       "        vertical-align: top;\n",
       "    }\n",
       "\n",
       "    .dataframe thead th {\n",
       "        text-align: right;\n",
       "    }\n",
       "</style>\n",
       "<table border=\"1\" class=\"dataframe\">\n",
       "  <thead>\n",
       "    <tr style=\"text-align: right;\">\n",
       "      <th></th>\n",
       "      <th>region</th>\n",
       "      <th>attraction</th>\n",
       "      <th>article</th>\n",
       "    </tr>\n",
       "  </thead>\n",
       "  <tbody>\n",
       "    <tr>\n",
       "      <th>0</th>\n",
       "      <td>경주</td>\n",
       "      <td>감은사지</td>\n",
       "      <td>문무대왕암과 함께 들러야 할 곳 감은사지 자체로는 커다란 석탑 개와 옛날 사찰터 흔...</td>\n",
       "    </tr>\n",
       "    <tr>\n",
       "      <th>1</th>\n",
       "      <td>경주</td>\n",
       "      <td>감은사지</td>\n",
       "      <td>고즈넉한 분위기의 신라 절터 감은사는 동해의 용이 되어 나라를 지키겠다며 동해바다에...</td>\n",
       "    </tr>\n",
       "    <tr>\n",
       "      <th>2</th>\n",
       "      <td>경주</td>\n",
       "      <td>감은사지</td>\n",
       "      <td>개인적으로 조금 애매한 관광지 감은사지는 말그대로 절이 있던 절터라서 저는 대단한 ...</td>\n",
       "    </tr>\n",
       "    <tr>\n",
       "      <th>3</th>\n",
       "      <td>경주</td>\n",
       "      <td>감은사지</td>\n",
       "      <td>역사를 알고 가면 더 좋은 곳 어느 유적지나 그러하듯 역사를 알고 가면 더 좋습니다...</td>\n",
       "    </tr>\n",
       "    <tr>\n",
       "      <th>4</th>\n",
       "      <td>경주</td>\n",
       "      <td>감은사지</td>\n",
       "      <td>번 첫차타고 다녀왔어요  고속터미널 출발행 타고 갔는데 돌아오는 버스 시간이 맞지 ...</td>\n",
       "    </tr>\n",
       "    <tr>\n",
       "      <th>...</th>\n",
       "      <td>...</td>\n",
       "      <td>...</td>\n",
       "      <td>...</td>\n",
       "    </tr>\n",
       "    <tr>\n",
       "      <th>25794</th>\n",
       "      <td>화성</td>\n",
       "      <td>화성 공룡알 화석지</td>\n",
       "      <td>왕복 두 시간의 거리이지만 나름 재미있어요 우리나라에서 발견된 공룡알 화석지입니다주...</td>\n",
       "    </tr>\n",
       "    <tr>\n",
       "      <th>25795</th>\n",
       "      <td>화성</td>\n",
       "      <td>화성 공룡알 화석지</td>\n",
       "      <td>드넓은 공간에 가슴이 트입니다 접근하기엔 조금 힘듭니다 제서해안고속도로 송산마도에서...</td>\n",
       "    </tr>\n",
       "    <tr>\n",
       "      <th>25796</th>\n",
       "      <td>화성</td>\n",
       "      <td>화성 공룡알 화석지</td>\n",
       "      <td>공룡알 화석을 볼수있음 화성은 전부터 공룡 화석으로 유명하였습니다 특히 송산면 근처...</td>\n",
       "    </tr>\n",
       "    <tr>\n",
       "      <th>25797</th>\n",
       "      <td>화성</td>\n",
       "      <td>화성 공룡알 화석지</td>\n",
       "      <td>넓디넓다 굉장히 넓다 가벼운마음으로 보기엔 날씨를 많이 탈 수가있다방문자센터에선 공...</td>\n",
       "    </tr>\n",
       "    <tr>\n",
       "      <th>25798</th>\n",
       "      <td>화성</td>\n",
       "      <td>화성 공룡알 화석지</td>\n",
       "      <td>탁 트인 전망 시원한 바람 별로 기대하지 않고 근처의 포도밭 체험 뒤 가볍게 들렀는...</td>\n",
       "    </tr>\n",
       "  </tbody>\n",
       "</table>\n",
       "<p>25799 rows × 3 columns</p>\n",
       "</div>"
      ],
      "text/plain": [
       "      region  attraction                                            article\n",
       "0         경주        감은사지  문무대왕암과 함께 들러야 할 곳 감은사지 자체로는 커다란 석탑 개와 옛날 사찰터 흔...\n",
       "1         경주        감은사지  고즈넉한 분위기의 신라 절터 감은사는 동해의 용이 되어 나라를 지키겠다며 동해바다에...\n",
       "2         경주        감은사지  개인적으로 조금 애매한 관광지 감은사지는 말그대로 절이 있던 절터라서 저는 대단한 ...\n",
       "3         경주        감은사지  역사를 알고 가면 더 좋은 곳 어느 유적지나 그러하듯 역사를 알고 가면 더 좋습니다...\n",
       "4         경주        감은사지  번 첫차타고 다녀왔어요  고속터미널 출발행 타고 갔는데 돌아오는 버스 시간이 맞지 ...\n",
       "...      ...         ...                                                ...\n",
       "25794     화성  화성 공룡알 화석지  왕복 두 시간의 거리이지만 나름 재미있어요 우리나라에서 발견된 공룡알 화석지입니다주...\n",
       "25795     화성  화성 공룡알 화석지  드넓은 공간에 가슴이 트입니다 접근하기엔 조금 힘듭니다 제서해안고속도로 송산마도에서...\n",
       "25796     화성  화성 공룡알 화석지  공룡알 화석을 볼수있음 화성은 전부터 공룡 화석으로 유명하였습니다 특히 송산면 근처...\n",
       "25797     화성  화성 공룡알 화석지  넓디넓다 굉장히 넓다 가벼운마음으로 보기엔 날씨를 많이 탈 수가있다방문자센터에선 공...\n",
       "25798     화성  화성 공룡알 화석지  탁 트인 전망 시원한 바람 별로 기대하지 않고 근처의 포도밭 체험 뒤 가볍게 들렀는...\n",
       "\n",
       "[25799 rows x 3 columns]"
      ]
     },
     "execution_count": 1,
     "metadata": {},
     "output_type": "execute_result"
    }
   ],
   "source": [
    "import pandas as pd\n",
    "\n",
    "df = pd.read_csv('example0.csv')\n",
    "df"
   ]
  },
  {
   "cell_type": "code",
   "execution_count": 2,
   "id": "6e89da3d",
   "metadata": {},
   "outputs": [
    {
     "data": {
      "text/plain": [
       "'역사를 알고 가면 더 좋은 곳 어느 유적지나 그러하듯 역사를 알고 가면 더 좋습니다 근처에 있는 문무왕릉과 더불어 문무왕과 신문왕의 이야기를 생각하며 절터에 서 있으면 주변 산세가 한결 다르게 느껴집니다'"
      ]
     },
     "execution_count": 2,
     "metadata": {},
     "output_type": "execute_result"
    }
   ],
   "source": [
    "from konlpy.tag import Okt\n",
    "import numpy as np\n",
    "import re\n",
    "\n",
    "df['article'] = df.article.map(lambda x: re.sub('[^가-힣]', ' ', x))  # 한글 제외한 문자 삭제\n",
    "df['article'] = df.article.map(lambda x: re.sub('\\s{2,}', ' ', x))\n",
    "df['article'][3]"
   ]
  },
  {
   "cell_type": "code",
   "execution_count": 3,
   "id": "93b17e6d",
   "metadata": {},
   "outputs": [
    {
     "data": {
      "application/vnd.jupyter.widget-view+json": {
       "model_id": "3a643d2d73af4b7da88bd33b4e30136f",
       "version_major": 2,
       "version_minor": 0
      },
      "text/plain": [
       "  0%|          | 0/25799 [00:00<?, ?it/s]"
      ]
     },
     "metadata": {},
     "output_type": "display_data"
    }
   ],
   "source": [
    "from tqdm.notebook import tqdm \n",
    "\n",
    "region_name = ['제주도'] + list(df['region'].unique())\n",
    "s_w=set(['은','는','이','가','를','들','에게','의','을','도','으로','만','라서',\n",
    "         '정말','진짜','너무','추천','장소','사람','좋다','가다','같다','곳','꼭',\n",
    "         '않다','년','월','일','하다','있다','이다','에','한','수','되다','에서',\n",
    "         '고','인','라고','과','적','로','와','보다','보이다','에는','가면','때',\n",
    "         '볼','분','에도','근처','하고','주변','좀','많다','말다','같이','가기',\n",
    "         '해주다','이랑','알다','어디가','것','되어다','등','까지','때문','이라',\n",
    "         '더','중','없다','다','그','나','가보다','아니다','정도','날','면','안',\n",
    "         '니','아주','요'] + region_name)\n",
    "\n",
    "okt=Okt()\n",
    "\n",
    "X_data=[] \n",
    "for i in tqdm(df['article']): \n",
    "    tk_d=okt.morphs(i, stem=True) \n",
    "    end_d=[w for w in tk_d if not w in s_w]#불용어 처리 \n",
    "    XX_data = []\n",
    "    for j in end_d:\n",
    "        XX_data.append(j)\n",
    "    X_data.append(XX_data)"
   ]
  },
  {
   "cell_type": "code",
   "execution_count": 4,
   "id": "2aed839a",
   "metadata": {
    "scrolled": true
   },
   "outputs": [
    {
     "data": {
      "text/html": [
       "<div>\n",
       "<style scoped>\n",
       "    .dataframe tbody tr th:only-of-type {\n",
       "        vertical-align: middle;\n",
       "    }\n",
       "\n",
       "    .dataframe tbody tr th {\n",
       "        vertical-align: top;\n",
       "    }\n",
       "\n",
       "    .dataframe thead th {\n",
       "        text-align: right;\n",
       "    }\n",
       "</style>\n",
       "<table border=\"1\" class=\"dataframe\">\n",
       "  <thead>\n",
       "    <tr style=\"text-align: right;\">\n",
       "      <th></th>\n",
       "      <th>region</th>\n",
       "      <th>attraction</th>\n",
       "      <th>article</th>\n",
       "      <th>tokenized</th>\n",
       "    </tr>\n",
       "  </thead>\n",
       "  <tbody>\n",
       "    <tr>\n",
       "      <th>0</th>\n",
       "      <td>경주</td>\n",
       "      <td>감은사지</td>\n",
       "      <td>문무대왕암과 함께 들러야 할 곳 감은사지 자체로는 커다란 석탑 개와 옛날 사찰터 흔...</td>\n",
       "      <td>[문무대왕, 암, 함께, 들다, 감은사지, 자체, 로는, 커다랗다, 석탑, 개, 옛...</td>\n",
       "    </tr>\n",
       "    <tr>\n",
       "      <th>1</th>\n",
       "      <td>경주</td>\n",
       "      <td>감은사지</td>\n",
       "      <td>고즈넉한 분위기의 신라 절터 감은사는 동해의 용이 되어 나라를 지키겠다며 동해바다에...</td>\n",
       "      <td>[즈, 넉, 분위기, 신라, 절터, 감은사, 동해, 용이, 나라, 지키다, 동해, ...</td>\n",
       "    </tr>\n",
       "    <tr>\n",
       "      <th>2</th>\n",
       "      <td>경주</td>\n",
       "      <td>감은사지</td>\n",
       "      <td>개인적으로 조금 애매한 관광지 감은사지는 말그대로 절이 있던 절터라서 저는 대단한 ...</td>\n",
       "      <td>[개인, 조금, 애매하다, 관광지, 감은사지, 말, 그대로, 절, 절터, 저, 대단...</td>\n",
       "    </tr>\n",
       "    <tr>\n",
       "      <th>3</th>\n",
       "      <td>경주</td>\n",
       "      <td>감은사지</td>\n",
       "      <td>역사를 알고 가면 더 좋은 곳 어느 유적지나 그러하듯 역사를 알고 가면 더 좋습니다...</td>\n",
       "      <td>[역사, 알, 어느, 유적지, 그러하다, 역사, 알, 문무왕릉, 더불다, 문무왕, ...</td>\n",
       "    </tr>\n",
       "    <tr>\n",
       "      <th>4</th>\n",
       "      <td>경주</td>\n",
       "      <td>감은사지</td>\n",
       "      <td>번 첫차타고 다녀왔어요 고속터미널 출발행 타고 갔는데 돌아오는 버스 시간이 맞지 않...</td>\n",
       "      <td>[번, 첫, 차, 타고, 다녀오다, 고속, 터미널, 출발, 행, 타고, 돌아오다, ...</td>\n",
       "    </tr>\n",
       "    <tr>\n",
       "      <th>...</th>\n",
       "      <td>...</td>\n",
       "      <td>...</td>\n",
       "      <td>...</td>\n",
       "      <td>...</td>\n",
       "    </tr>\n",
       "    <tr>\n",
       "      <th>25794</th>\n",
       "      <td>화성</td>\n",
       "      <td>화성 공룡알 화석지</td>\n",
       "      <td>왕복 두 시간의 거리이지만 나름 재미있어요 우리나라에서 발견된 공룡알 화석지입니다주...</td>\n",
       "      <td>[왕복, 두, 시간, 거리, 이지만, 나름, 재미있다, 우리나라, 발견, 공룡, 알...</td>\n",
       "    </tr>\n",
       "    <tr>\n",
       "      <th>25795</th>\n",
       "      <td>화성</td>\n",
       "      <td>화성 공룡알 화석지</td>\n",
       "      <td>드넓은 공간에 가슴이 트입니다 접근하기엔 조금 힘듭니다 제서해안고속도로 송산마도에서...</td>\n",
       "      <td>[드넓다, 공간, 가슴, 트이다, 접근, 조금, 힘드다, 제, 서해안, 고속도로, ...</td>\n",
       "    </tr>\n",
       "    <tr>\n",
       "      <th>25796</th>\n",
       "      <td>화성</td>\n",
       "      <td>화성 공룡알 화석지</td>\n",
       "      <td>공룡알 화석을 볼수있음 화성은 전부터 공룡 화석으로 유명하였습니다 특히 송산면 근처...</td>\n",
       "      <td>[공룡, 알, 화석, 전, 부터, 공룡, 화석, 유명하다, 특히, 송산면, 공룡, ...</td>\n",
       "    </tr>\n",
       "    <tr>\n",
       "      <th>25797</th>\n",
       "      <td>화성</td>\n",
       "      <td>화성 공룡알 화석지</td>\n",
       "      <td>넓디넓다 굉장히 넓다 가벼운마음으로 보기엔 날씨를 많이 탈 수가있다방문자센터에선 공...</td>\n",
       "      <td>[넓다, 넓다, 굉장하다, 넓다, 가볍다, 마음, 보기, 엔, 날씨, 많이, 탈, ...</td>\n",
       "    </tr>\n",
       "    <tr>\n",
       "      <th>25798</th>\n",
       "      <td>화성</td>\n",
       "      <td>화성 공룡알 화석지</td>\n",
       "      <td>탁 트인 전망 시원한 바람 별로 기대하지 않고 근처의 포도밭 체험 뒤 가볍게 들렀는...</td>\n",
       "      <td>[탁, 트이다, 전망, 시원하다, 바람, 별로, 기대하다, 포도, 밭, 체험, 뒤,...</td>\n",
       "    </tr>\n",
       "  </tbody>\n",
       "</table>\n",
       "<p>25799 rows × 4 columns</p>\n",
       "</div>"
      ],
      "text/plain": [
       "      region  attraction                                            article  \\\n",
       "0         경주        감은사지  문무대왕암과 함께 들러야 할 곳 감은사지 자체로는 커다란 석탑 개와 옛날 사찰터 흔...   \n",
       "1         경주        감은사지  고즈넉한 분위기의 신라 절터 감은사는 동해의 용이 되어 나라를 지키겠다며 동해바다에...   \n",
       "2         경주        감은사지  개인적으로 조금 애매한 관광지 감은사지는 말그대로 절이 있던 절터라서 저는 대단한 ...   \n",
       "3         경주        감은사지  역사를 알고 가면 더 좋은 곳 어느 유적지나 그러하듯 역사를 알고 가면 더 좋습니다...   \n",
       "4         경주        감은사지  번 첫차타고 다녀왔어요 고속터미널 출발행 타고 갔는데 돌아오는 버스 시간이 맞지 않...   \n",
       "...      ...         ...                                                ...   \n",
       "25794     화성  화성 공룡알 화석지  왕복 두 시간의 거리이지만 나름 재미있어요 우리나라에서 발견된 공룡알 화석지입니다주...   \n",
       "25795     화성  화성 공룡알 화석지  드넓은 공간에 가슴이 트입니다 접근하기엔 조금 힘듭니다 제서해안고속도로 송산마도에서...   \n",
       "25796     화성  화성 공룡알 화석지  공룡알 화석을 볼수있음 화성은 전부터 공룡 화석으로 유명하였습니다 특히 송산면 근처...   \n",
       "25797     화성  화성 공룡알 화석지  넓디넓다 굉장히 넓다 가벼운마음으로 보기엔 날씨를 많이 탈 수가있다방문자센터에선 공...   \n",
       "25798     화성  화성 공룡알 화석지  탁 트인 전망 시원한 바람 별로 기대하지 않고 근처의 포도밭 체험 뒤 가볍게 들렀는...   \n",
       "\n",
       "                                               tokenized  \n",
       "0      [문무대왕, 암, 함께, 들다, 감은사지, 자체, 로는, 커다랗다, 석탑, 개, 옛...  \n",
       "1      [즈, 넉, 분위기, 신라, 절터, 감은사, 동해, 용이, 나라, 지키다, 동해, ...  \n",
       "2      [개인, 조금, 애매하다, 관광지, 감은사지, 말, 그대로, 절, 절터, 저, 대단...  \n",
       "3      [역사, 알, 어느, 유적지, 그러하다, 역사, 알, 문무왕릉, 더불다, 문무왕, ...  \n",
       "4      [번, 첫, 차, 타고, 다녀오다, 고속, 터미널, 출발, 행, 타고, 돌아오다, ...  \n",
       "...                                                  ...  \n",
       "25794  [왕복, 두, 시간, 거리, 이지만, 나름, 재미있다, 우리나라, 발견, 공룡, 알...  \n",
       "25795  [드넓다, 공간, 가슴, 트이다, 접근, 조금, 힘드다, 제, 서해안, 고속도로, ...  \n",
       "25796  [공룡, 알, 화석, 전, 부터, 공룡, 화석, 유명하다, 특히, 송산면, 공룡, ...  \n",
       "25797  [넓다, 넓다, 굉장하다, 넓다, 가볍다, 마음, 보기, 엔, 날씨, 많이, 탈, ...  \n",
       "25798  [탁, 트이다, 전망, 시원하다, 바람, 별로, 기대하다, 포도, 밭, 체험, 뒤,...  \n",
       "\n",
       "[25799 rows x 4 columns]"
      ]
     },
     "execution_count": 4,
     "metadata": {},
     "output_type": "execute_result"
    }
   ],
   "source": [
    "df['tokenized'] = X_data\n",
    "df"
   ]
  },
  {
   "cell_type": "code",
   "execution_count": 5,
   "id": "4bff536e",
   "metadata": {},
   "outputs": [
    {
     "data": {
      "text/plain": [
       "(25771, 4)"
      ]
     },
     "execution_count": 5,
     "metadata": {},
     "output_type": "execute_result"
    }
   ],
   "source": [
    "df = df.drop(df[df['tokenized'].apply(lambda x: len(x)<1)].index)\n",
    "df = df.reset_index(drop=True)\n",
    "df.shape"
   ]
  },
  {
   "cell_type": "code",
   "execution_count": 6,
   "id": "53475bf7",
   "metadata": {},
   "outputs": [
    {
     "data": {
      "text/plain": [
       "Series([], dtype: int64)"
      ]
     },
     "execution_count": 6,
     "metadata": {},
     "output_type": "execute_result"
    }
   ],
   "source": [
    "cnt = df.groupby(df['attraction']).size()\n",
    "cnt[cnt<5]"
   ]
  },
  {
   "cell_type": "code",
   "execution_count": 7,
   "id": "b92b15cd",
   "metadata": {
    "scrolled": true
   },
   "outputs": [],
   "source": [
    "from collections import Counter\n",
    "\n",
    "counter_lst = {}\n",
    "\n",
    "region = set(df['region'])\n",
    "\n",
    "for r in region:\n",
    "    df2 = df[df['region']==r]\n",
    "    labels = set(df2['attraction'])\n",
    "    tmp_lst = {}\n",
    "    for i in labels:\n",
    "        attr_reviews = np.hstack(df2[df2.attraction == i]['tokenized'].values)\n",
    "        reviews_word_count = Counter(attr_reviews)\n",
    "        \n",
    "        #빈도수 높은 256개 추출\n",
    "        tmp = pd.DataFrame(reviews_word_count.most_common(), columns = ['word', 'count']).iloc[:256,:]\n",
    "        delcount = tmp.iloc[-1,:]['count']\n",
    "        \n",
    "        #print(f'{r}에 {i} : {delcount}개 이하 삭제')\n",
    "        tmp = tmp.drop(tmp[tmp['count'] == delcount].index)\n",
    "        \n",
    "        #순위에 기반한 가중치 계산 \n",
    "        tmp['weight'] = tmp['count'].rank(method='min', ascending=False)/128\n",
    "        tmp['weight'] = tmp['weight'].apply(lambda x: 0.98 if x > 0.98 else x)\n",
    "        tmp = tmp.set_index('word').T.to_dict('records')[1]\n",
    "        tmp_lst[i] = tmp\n",
    "    counter_lst[r] = tmp_lst"
   ]
  },
  {
   "cell_type": "code",
   "execution_count": 8,
   "id": "f80711eb",
   "metadata": {
    "scrolled": true
   },
   "outputs": [
    {
     "name": "stdout",
     "output_type": "stream",
     "text": [
      "대전에 국립중앙과학관 - 과학: 0.0625\n",
      "대전에 엑스포 과학공원 - 과학: 0.0234375\n",
      "대전에 엑스포다리 - 과학: 0.1171875\n",
      "광주에 국립광주과학관 - 과학: 0.0234375\n",
      "서울에 세종대왕 기념관 - 과학: 0.078125\n",
      "서울에 홍릉 수목원 - 과학: 0.1328125\n",
      "인천에 소래습지 생태공원 - 과학: 0.3984375\n"
     ]
    }
   ],
   "source": [
    "for i in counter_lst:\n",
    "    for j in counter_lst[i]:\n",
    "        try:\n",
    "            print(f'{i}에 {j} - 과학: {counter_lst[i][j][\"과학\"]}')\n",
    "        except:\n",
    "            continue"
   ]
  },
  {
   "cell_type": "code",
   "execution_count": 9,
   "id": "3021d0c9",
   "metadata": {},
   "outputs": [],
   "source": [
    "import pickle"
   ]
  },
  {
   "cell_type": "code",
   "execution_count": 10,
   "id": "ac9d0201",
   "metadata": {},
   "outputs": [],
   "source": [
    "with open('word_count_rank.pickle', 'wb') as handle:\n",
    "    pickle.dump(counter_lst, handle, protocol=pickle.HIGHEST_PROTOCOL)"
   ]
  },
  {
   "cell_type": "code",
   "execution_count": 15,
   "id": "8f45b1b8",
   "metadata": {},
   "outputs": [
    {
     "data": {
      "text/plain": [
       "dict_keys(['신구대학 식물원', '정자동카페골목', '신구대학교식물원', '평화의 소녀상', '성남 아트센터', '성남중앙공원', '희망대공원', '책테마파크', 'CGV Yatap', '메가박스 분당', '율동 공원', '성남시립식물원', '황송공원'])"
      ]
     },
     "execution_count": 15,
     "metadata": {},
     "output_type": "execute_result"
    }
   ],
   "source": [
    "with open('word_count_rank.pickle', 'rb') as handle:\n",
    "    b = pickle.load(handle)\n",
    "\n",
    "b['성남'].keys()"
   ]
  }
 ],
 "metadata": {
  "kernelspec": {
   "display_name": "Python 3 (ipykernel)",
   "language": "python",
   "name": "python3"
  },
  "language_info": {
   "codemirror_mode": {
    "name": "ipython",
    "version": 3
   },
   "file_extension": ".py",
   "mimetype": "text/x-python",
   "name": "python",
   "nbconvert_exporter": "python",
   "pygments_lexer": "ipython3",
   "version": "3.9.12"
  }
 },
 "nbformat": 4,
 "nbformat_minor": 5
}
